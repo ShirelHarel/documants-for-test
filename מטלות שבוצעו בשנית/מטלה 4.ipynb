{
 "cells": [
  {
   "cell_type": "code",
   "execution_count": 1,
   "id": "2b145c8f",
   "metadata": {},
   "outputs": [],
   "source": [
    "import numpy as np\n",
    "import pandas as pd\n",
    "import seaborn as sns\n",
    "import sklearn as sk\n",
    "import matplotlib.pyplot as plt\n",
    "from sklearn import tree\n",
    "from sklearn.tree import DecisionTreeClassifier\n",
    "from sklearn.svm import SVC\n",
    "from sklearn.ensemble import RandomForestClassifier\n",
    "from sklearn.tree import DecisionTreeRegressor"
   ]
  },
  {
   "cell_type": "code",
   "execution_count": 2,
   "id": "72aece4a",
   "metadata": {},
   "outputs": [
    {
     "data": {
      "text/plain": [
       "Name         1\n",
       "Team         1\n",
       "Number       1\n",
       "Position     1\n",
       "Age          1\n",
       "Height       1\n",
       "Weight       1\n",
       "College     85\n",
       "Salary      12\n",
       "dtype: int64"
      ]
     },
     "execution_count": 2,
     "metadata": {},
     "output_type": "execute_result"
    }
   ],
   "source": [
    "url = 'https://raw.githubusercontent.com/ShaiYona/Data-Science2021B/main/Assignments/4/nba.csv'\n",
    "data = pd.read_csv(url)\n",
    "data.head()\n",
    "data.isnull().sum()"
   ]
  },
  {
   "cell_type": "markdown",
   "id": "71a284e3",
   "metadata": {},
   "source": [
    "### ex 1:   בלבד[ Age',Height,'Weight','Salary']קראו את הקובץ, השמיטו ערכים חסרים והציגו את 3 השורות הראשונות עם העמודות dtypes"
   ]
  },
  {
   "cell_type": "code",
   "execution_count": 18,
   "id": "74da7592",
   "metadata": {},
   "outputs": [
    {
     "data": {
      "text/plain": [
       "Name        0\n",
       "Team        0\n",
       "Number      0\n",
       "Position    0\n",
       "Age         0\n",
       "Height      0\n",
       "Weight      0\n",
       "College     0\n",
       "Salary      0\n",
       "dtype: int64"
      ]
     },
     "execution_count": 18,
     "metadata": {},
     "output_type": "execute_result"
    }
   ],
   "source": [
    "data= data.dropna().reset_index(drop=True)\n",
    "data[['Age','Height','Weight','Salary']].head(3)\n",
    "data\n",
    "data.isnull().sum()"
   ]
  },
  {
   "cell_type": "markdown",
   "id": "99f6ca2b",
   "metadata": {},
   "source": [
    "### ex 2: תקנו את עמודת גובה לפורמט שיאפשר ניתוח והסקת מסקנה, הציגו שוב את['Age',Height,'Weight','Salary'] של הראשונות השורות 3\n"
   ]
  },
  {
   "cell_type": "code",
   "execution_count": 4,
   "id": "6628095a",
   "metadata": {},
   "outputs": [
    {
     "data": {
      "text/html": [
       "<div>\n",
       "<style scoped>\n",
       "    .dataframe tbody tr th:only-of-type {\n",
       "        vertical-align: middle;\n",
       "    }\n",
       "\n",
       "    .dataframe tbody tr th {\n",
       "        vertical-align: top;\n",
       "    }\n",
       "\n",
       "    .dataframe thead th {\n",
       "        text-align: right;\n",
       "    }\n",
       "</style>\n",
       "<table border=\"1\" class=\"dataframe\">\n",
       "  <thead>\n",
       "    <tr style=\"text-align: right;\">\n",
       "      <th></th>\n",
       "      <th>Age</th>\n",
       "      <th>Height</th>\n",
       "      <th>Weight</th>\n",
       "      <th>Salary</th>\n",
       "    </tr>\n",
       "  </thead>\n",
       "  <tbody>\n",
       "    <tr>\n",
       "      <th>0</th>\n",
       "      <td>25.0</td>\n",
       "      <td>6</td>\n",
       "      <td>180.0</td>\n",
       "      <td>7730337.0</td>\n",
       "    </tr>\n",
       "    <tr>\n",
       "      <th>1</th>\n",
       "      <td>25.0</td>\n",
       "      <td>10</td>\n",
       "      <td>235.0</td>\n",
       "      <td>6796117.0</td>\n",
       "    </tr>\n",
       "    <tr>\n",
       "      <th>2</th>\n",
       "      <td>22.0</td>\n",
       "      <td>9</td>\n",
       "      <td>185.0</td>\n",
       "      <td>1148640.0</td>\n",
       "    </tr>\n",
       "  </tbody>\n",
       "</table>\n",
       "</div>"
      ],
      "text/plain": [
       "    Age  Height  Weight     Salary\n",
       "0  25.0       6   180.0  7730337.0\n",
       "1  25.0      10   235.0  6796117.0\n",
       "2  22.0       9   185.0  1148640.0"
      ]
     },
     "execution_count": 4,
     "metadata": {},
     "output_type": "execute_result"
    }
   ],
   "source": [
    "data['Height'] = data['Height'].astype('category').cat.codes\n",
    "data[['Age','Height','Weight','Salary']].head(3)"
   ]
  },
  {
   "cell_type": "markdown",
   "id": "2d25cb40",
   "metadata": {},
   "source": [
    "### ex 3:   צרו countplot ו pieplot עבור העמודה position ,וכיתבו איפה לדעתכם ניתן לראות את הדאטה בצורה ברורה יותר"
   ]
  },
  {
   "cell_type": "code",
   "execution_count": 5,
   "id": "505a95db",
   "metadata": {},
   "outputs": [
    {
     "data": {
      "image/png": "[encoded data removed]",
      "text/plain": [
       "<Figure size 1440x360 with 2 Axes>"
      ]
     },
     "metadata": {
      "needs_background": "light"
     },
     "output_type": "display_data"
    }
   ],
   "source": [
    "fig,axes = plt.subplots(figsize=(20,5),ncols=2)\n",
    "sns.countplot(ax=axes[0],data=data,x=data['Position'],hue='Position',palette=\"colorblind\")\n",
    "data['Position'].value_counts().plot.pie(ax=axes[1],autopct=\"%1.1f%%\", title = \"Position\" )\n",
    "plt.show()"
   ]
  },
  {
   "cell_type": "markdown",
   "id": "efbaa55f",
   "metadata": {},
   "source": [
    "### ex 5: התאימו מודל לאימון, באיזה מודל השתמשתם ומדוע?"
   ]
  },
  {
   "cell_type": "code",
   "execution_count": 6,
   "id": "5f110a48",
   "metadata": {},
   "outputs": [],
   "source": [
    "model = DecisionTreeRegressor(random_state=4)\n",
    "# שימוש במודל זה כי מנסים לנבא שכר- משתנה רציף"
   ]
  },
  {
   "cell_type": "markdown",
   "id": "0fddaaaa",
   "metadata": {},
   "source": [
    "### ex 4: שישמשו למבחן. הראשונות של עמודות הfeatures שישמשו לאימון ואת 5 השורות הראשונות של הtarget\\labelפצלו את הדאטה כך ש %30 מהדאטה ישמש למבחן ו%70 לאימון. הציגו את 5 השורות "
   ]
  },
  {
   "cell_type": "code",
   "execution_count": 7,
   "id": "0ae8aa5f",
   "metadata": {},
   "outputs": [],
   "source": [
    "features = ['Age','Height','Weight']\n",
    "X = data[features]\n",
    "y = data['Salary']\n",
    "X_train, X_test, y_train, y_test = sk.model_selection.train_test_split(X, y, test_size=0.3, random_state=42) "
   ]
  },
  {
   "cell_type": "code",
   "execution_count": 8,
   "id": "ecef06f6",
   "metadata": {},
   "outputs": [
    {
     "data": {
      "text/html": [
       "<div>\n",
       "<style scoped>\n",
       "    .dataframe tbody tr th:only-of-type {\n",
       "        vertical-align: middle;\n",
       "    }\n",
       "\n",
       "    .dataframe tbody tr th {\n",
       "        vertical-align: top;\n",
       "    }\n",
       "\n",
       "    .dataframe thead th {\n",
       "        text-align: right;\n",
       "    }\n",
       "</style>\n",
       "<table border=\"1\" class=\"dataframe\">\n",
       "  <thead>\n",
       "    <tr style=\"text-align: right;\">\n",
       "      <th></th>\n",
       "      <th>Age</th>\n",
       "      <th>Height</th>\n",
       "      <th>Weight</th>\n",
       "    </tr>\n",
       "  </thead>\n",
       "  <tbody>\n",
       "    <tr>\n",
       "      <th>268</th>\n",
       "      <td>22.0</td>\n",
       "      <td>11</td>\n",
       "      <td>232.0</td>\n",
       "    </tr>\n",
       "    <tr>\n",
       "      <th>232</th>\n",
       "      <td>26.0</td>\n",
       "      <td>10</td>\n",
       "      <td>220.0</td>\n",
       "    </tr>\n",
       "    <tr>\n",
       "      <th>157</th>\n",
       "      <td>26.0</td>\n",
       "      <td>7</td>\n",
       "      <td>208.0</td>\n",
       "    </tr>\n",
       "    <tr>\n",
       "      <th>19</th>\n",
       "      <td>21.0</td>\n",
       "      <td>5</td>\n",
       "      <td>200.0</td>\n",
       "    </tr>\n",
       "    <tr>\n",
       "      <th>147</th>\n",
       "      <td>33.0</td>\n",
       "      <td>13</td>\n",
       "      <td>245.0</td>\n",
       "    </tr>\n",
       "  </tbody>\n",
       "</table>\n",
       "</div>"
      ],
      "text/plain": [
       "      Age  Height  Weight\n",
       "268  22.0      11   232.0\n",
       "232  26.0      10   220.0\n",
       "157  26.0       7   208.0\n",
       "19   21.0       5   200.0\n",
       "147  33.0      13   245.0"
      ]
     },
     "execution_count": 8,
     "metadata": {},
     "output_type": "execute_result"
    }
   ],
   "source": [
    "X_train.head()"
   ]
  },
  {
   "cell_type": "code",
   "execution_count": 9,
   "id": "208aa91c",
   "metadata": {},
   "outputs": [
    {
     "data": {
      "text/plain": [
       "193    2085671.0\n",
       "33     1636842.0\n",
       "15     6300000.0\n",
       "347    3075880.0\n",
       "57     3553917.0\n",
       "Name: Salary, dtype: float64"
      ]
     },
     "execution_count": 9,
     "metadata": {},
     "output_type": "execute_result"
    }
   ],
   "source": [
    "y_test.head()"
   ]
  },
  {
   "cell_type": "markdown",
   "id": "8bb417b0",
   "metadata": {},
   "source": [
    "### ex 6: בצעו תחזית למשכורת השחקנים בהתאם לfeatures בדאטה של המבחן וחשבו את הדיוק של המודל שיצרתם"
   ]
  },
  {
   "cell_type": "code",
   "execution_count": 10,
   "id": "428cd1a9",
   "metadata": {},
   "outputs": [
    {
     "data": {
      "text/plain": [
       "DecisionTreeRegressor(random_state=4)"
      ]
     },
     "execution_count": 10,
     "metadata": {},
     "output_type": "execute_result"
    }
   ],
   "source": [
    "model.fit(X_train, y_train)"
   ]
  },
  {
   "cell_type": "code",
   "execution_count": 11,
   "id": "c8f42276",
   "metadata": {},
   "outputs": [
    {
     "data": {
      "text/plain": [
       "7088954.961296246"
      ]
     },
     "execution_count": 11,
     "metadata": {},
     "output_type": "execute_result"
    }
   ],
   "source": [
    "pred = model.predict(X_test)\n",
    "def mse(a,b):\n",
    "    return np.sqrt(np.square(a-b).mean())\n",
    "mse(y_test.values,pred)"
   ]
  },
  {
   "cell_type": "markdown",
   "id": "c6dd42f2",
   "metadata": {},
   "source": [
    "### ex 7:  )הוסיפו את העמודה position , הריצו את המודל מחדש וכיתבו האם המודל עכשו טוב יותר, גרוע יותר או אותו הדבר. רמז: יש לטפל בעמודה position לפני ההוספה. "
   ]
  },
  {
   "cell_type": "code",
   "execution_count": 12,
   "id": "2f4f393b",
   "metadata": {},
   "outputs": [],
   "source": [
    "data['Position'] = data['Position'].astype('category').cat.codes"
   ]
  },
  {
   "cell_type": "code",
   "execution_count": 13,
   "id": "28b8b3be",
   "metadata": {},
   "outputs": [],
   "source": [
    "model1= DecisionTreeRegressor(random_state=4)"
   ]
  },
  {
   "cell_type": "code",
   "execution_count": 14,
   "id": "7a8a5ca7",
   "metadata": {},
   "outputs": [
    {
     "data": {
      "text/plain": [
       "DecisionTreeRegressor(random_state=4)"
      ]
     },
     "execution_count": 14,
     "metadata": {},
     "output_type": "execute_result"
    }
   ],
   "source": [
    "features1 = ['Age','Height','Weight','Position']\n",
    "X1 = data[features1]\n",
    "y1 = data['Salary']\n",
    "X_train1, X_test1, y_train1, y_test1 = sk.model_selection.train_test_split(X1, y1, test_size=0.3, random_state=42) \n",
    "model1.fit(X_train1, y_train1)"
   ]
  },
  {
   "cell_type": "code",
   "execution_count": 15,
   "id": "57185031",
   "metadata": {},
   "outputs": [
    {
     "data": {
      "text/plain": [
       "6410872.910700873"
      ]
     },
     "execution_count": 15,
     "metadata": {},
     "output_type": "execute_result"
    }
   ],
   "source": [
    "pred1 = model1.predict(X_test1)\n",
    "\n",
    "mse(y_test1.values,pred1)"
   ]
  },
  {
   "cell_type": "markdown",
   "id": "63fe4611",
   "metadata": {},
   "source": [
    "הוספת העמודה POSITION שיפרה את דיוק המודל"
   ]
  },
  {
   "cell_type": "markdown",
   "id": "fb6ea9d1",
   "metadata": {},
   "source": [
    "### ex 8: שפרו את ביצועי המודל על ידי הגבלת עומק העץ"
   ]
  },
  {
   "cell_type": "code",
   "execution_count": 16,
   "id": "dfb1ddcb",
   "metadata": {},
   "outputs": [
    {
     "data": {
      "text/plain": [
       "DecisionTreeRegressor(max_depth=9, random_state=4)"
      ]
     },
     "execution_count": 16,
     "metadata": {},
     "output_type": "execute_result"
    }
   ],
   "source": [
    "model2= DecisionTreeRegressor(max_depth=9, random_state=4)\n",
    "model2.fit(X_train1, y_train1)"
   ]
  },
  {
   "cell_type": "code",
   "execution_count": 17,
   "id": "466f1e6d",
   "metadata": {},
   "outputs": [
    {
     "data": {
      "text/plain": [
       "6198891.9613805385"
      ]
     },
     "execution_count": 17,
     "metadata": {},
     "output_type": "execute_result"
    }
   ],
   "source": [
    "pred2 = model2.predict(X_test1)\n",
    "\n",
    "mse(y_test1.values,pred2)"
   ]
  },
  {
   "cell_type": "markdown",
   "id": "e53c33b7",
   "metadata": {},
   "source": [
    "שיפר את ביצועי המודל"
   ]
  },
  {
   "cell_type": "code",
   "execution_count": null,
   "id": "c641b5ba",
   "metadata": {},
   "outputs": [],
   "source": []
  }
 ],
 "metadata": {
  "kernelspec": {
   "display_name": "Python 3",
   "language": "python",
   "name": "python3"
  },
  "language_info": {
   "codemirror_mode": {
    "name": "ipython",
    "version": 3
   },
   "file_extension": ".py",
   "mimetype": "text/x-python",
   "name": "python",
   "nbconvert_exporter": "python",
   "pygments_lexer": "ipython3",
   "version": "3.9.4"
  }
 },
 "nbformat": 4,
 "nbformat_minor": 5
}
