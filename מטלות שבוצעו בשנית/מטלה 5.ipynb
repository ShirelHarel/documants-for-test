{
 "cells": [
  {
   "cell_type": "markdown",
   "metadata": {},
   "source": [
    "# Identify:\n",
    "\n",
    "Please fill-in your ID in the following cell, **only id numbers, no names!**\n"
   ]
  },
  {
   "cell_type": "code",
   "execution_count": 1,
   "metadata": {},
   "outputs": [],
   "source": [
    "id1 = \"209130012\""
   ]
  },
  {
   "cell_type": "code",
   "execution_count": 2,
   "metadata": {},
   "outputs": [],
   "source": [
    "import pandas as pd\n",
    "import numpy as np\n",
    "import matplotlib.pyplot as plt\n",
    "import seaborn as sns\n",
    "import sklearn as sk\n",
    "from sklearn import tree\n",
    "from sklearn.tree import DecisionTreeClassifier\n",
    "from sklearn.model_selection import train_test_split\n",
    "from sklearn.metrics import mean_squared_error as mse"
   ]
  },
  {
   "cell_type": "code",
   "execution_count": 3,
   "metadata": {},
   "outputs": [],
   "source": [
    "df = pd.DataFrame([id1])"
   ]
  },
  {
   "cell_type": "markdown",
   "metadata": {},
   "source": [
    "Uncomment in case two students are doing the assignment together:"
   ]
  },
  {
   "cell_type": "code",
   "execution_count": 4,
   "metadata": {},
   "outputs": [],
   "source": [
    "#df = pd.DataFrame([id1,id2])"
   ]
  },
  {
   "cell_type": "code",
   "execution_count": 5,
   "metadata": {},
   "outputs": [],
   "source": [
    "df.to_clipboard(index=False,header=False)"
   ]
  },
  {
   "cell_type": "markdown",
   "metadata": {},
   "source": [
    "---"
   ]
  },
  {
   "cell_type": "markdown",
   "metadata": {},
   "source": [
    "----"
   ]
  },
  {
   "cell_type": "code",
   "execution_count": 6,
   "metadata": {},
   "outputs": [
    {
     "data": {
      "text/html": [
       "<div>\n",
       "<style scoped>\n",
       "    .dataframe tbody tr th:only-of-type {\n",
       "        vertical-align: middle;\n",
       "    }\n",
       "\n",
       "    .dataframe tbody tr th {\n",
       "        vertical-align: top;\n",
       "    }\n",
       "\n",
       "    .dataframe thead th {\n",
       "        text-align: right;\n",
       "    }\n",
       "</style>\n",
       "<table border=\"1\" class=\"dataframe\">\n",
       "  <thead>\n",
       "    <tr style=\"text-align: right;\">\n",
       "      <th></th>\n",
       "      <th>Unnamed: 0</th>\n",
       "      <th>Date</th>\n",
       "      <th>AveragePrice</th>\n",
       "      <th>total_sold</th>\n",
       "      <th>small_sold</th>\n",
       "      <th>large_sold</th>\n",
       "      <th>sma</th>\n",
       "      <th>Total Bags</th>\n",
       "      <th>Small Bags</th>\n",
       "      <th>Large Bags</th>\n",
       "      <th>XLarge Bags</th>\n",
       "      <th>type</th>\n",
       "      <th>year</th>\n",
       "      <th>region</th>\n",
       "    </tr>\n",
       "  </thead>\n",
       "  <tbody>\n",
       "    <tr>\n",
       "      <th>0</th>\n",
       "      <td>0</td>\n",
       "      <td>27/12/2015</td>\n",
       "      <td>1.33</td>\n",
       "      <td>64236.62</td>\n",
       "      <td>1036.74</td>\n",
       "      <td>54454.85</td>\n",
       "      <td>48.16</td>\n",
       "      <td>8696.87</td>\n",
       "      <td>8603.62</td>\n",
       "      <td>93.25</td>\n",
       "      <td>0.0</td>\n",
       "      <td>conventional</td>\n",
       "      <td>2015</td>\n",
       "      <td>Albany</td>\n",
       "    </tr>\n",
       "    <tr>\n",
       "      <th>1</th>\n",
       "      <td>1</td>\n",
       "      <td>20/12/2015</td>\n",
       "      <td>1.35</td>\n",
       "      <td>54876.98</td>\n",
       "      <td>674.28</td>\n",
       "      <td>44638.81</td>\n",
       "      <td>58.33</td>\n",
       "      <td>9505.56</td>\n",
       "      <td>9408.07</td>\n",
       "      <td>97.49</td>\n",
       "      <td>0.0</td>\n",
       "      <td>conventional</td>\n",
       "      <td>2015</td>\n",
       "      <td>Albany</td>\n",
       "    </tr>\n",
       "    <tr>\n",
       "      <th>2</th>\n",
       "      <td>2</td>\n",
       "      <td>13/12/2015</td>\n",
       "      <td>0.93</td>\n",
       "      <td>118220.22</td>\n",
       "      <td>794.70</td>\n",
       "      <td>109149.67</td>\n",
       "      <td>130.50</td>\n",
       "      <td>8145.35</td>\n",
       "      <td>8042.21</td>\n",
       "      <td>103.14</td>\n",
       "      <td>0.0</td>\n",
       "      <td>conventional</td>\n",
       "      <td>2015</td>\n",
       "      <td>Albany</td>\n",
       "    </tr>\n",
       "    <tr>\n",
       "      <th>3</th>\n",
       "      <td>3</td>\n",
       "      <td>06/12/2015</td>\n",
       "      <td>1.08</td>\n",
       "      <td>78992.15</td>\n",
       "      <td>1132.00</td>\n",
       "      <td>71976.41</td>\n",
       "      <td>72.58</td>\n",
       "      <td>5811.16</td>\n",
       "      <td>5677.40</td>\n",
       "      <td>133.76</td>\n",
       "      <td>0.0</td>\n",
       "      <td>conventional</td>\n",
       "      <td>2015</td>\n",
       "      <td>Albany</td>\n",
       "    </tr>\n",
       "    <tr>\n",
       "      <th>4</th>\n",
       "      <td>4</td>\n",
       "      <td>29/11/2015</td>\n",
       "      <td>1.28</td>\n",
       "      <td>51039.60</td>\n",
       "      <td>941.48</td>\n",
       "      <td>43838.39</td>\n",
       "      <td>75.78</td>\n",
       "      <td>6183.95</td>\n",
       "      <td>5986.26</td>\n",
       "      <td>197.69</td>\n",
       "      <td>0.0</td>\n",
       "      <td>conventional</td>\n",
       "      <td>2015</td>\n",
       "      <td>Albany</td>\n",
       "    </tr>\n",
       "  </tbody>\n",
       "</table>\n",
       "</div>"
      ],
      "text/plain": [
       "   Unnamed: 0        Date  AveragePrice  total_sold  small_sold  large_sold  \\\n",
       "0           0  27/12/2015          1.33    64236.62     1036.74    54454.85   \n",
       "1           1  20/12/2015          1.35    54876.98      674.28    44638.81   \n",
       "2           2  13/12/2015          0.93   118220.22      794.70   109149.67   \n",
       "3           3  06/12/2015          1.08    78992.15     1132.00    71976.41   \n",
       "4           4  29/11/2015          1.28    51039.60      941.48    43838.39   \n",
       "\n",
       "      sma  Total Bags  Small Bags  Large Bags  XLarge Bags          type  \\\n",
       "0   48.16     8696.87     8603.62       93.25          0.0  conventional   \n",
       "1   58.33     9505.56     9408.07       97.49          0.0  conventional   \n",
       "2  130.50     8145.35     8042.21      103.14          0.0  conventional   \n",
       "3   72.58     5811.16     5677.40      133.76          0.0  conventional   \n",
       "4   75.78     6183.95     5986.26      197.69          0.0  conventional   \n",
       "\n",
       "   year  region  \n",
       "0  2015  Albany  \n",
       "1  2015  Albany  \n",
       "2  2015  Albany  \n",
       "3  2015  Albany  \n",
       "4  2015  Albany  "
      ]
     },
     "execution_count": 6,
     "metadata": {},
     "output_type": "execute_result"
    }
   ],
   "source": [
    "url = 'https://raw.githubusercontent.com/nlihin/data-analytics/main/datasets/avocado.csv'\n",
    "data = pd.read_csv(url)\n",
    "data.head()"
   ]
  },
  {
   "cell_type": "code",
   "execution_count": 7,
   "metadata": {},
   "outputs": [
    {
     "data": {
      "text/plain": [
       "Unnamed: 0        int64\n",
       "Date             object\n",
       "AveragePrice    float64\n",
       "total_sold      float64\n",
       "small_sold      float64\n",
       "large_sold      float64\n",
       "sma             float64\n",
       "Total Bags      float64\n",
       "Small Bags      float64\n",
       "Large Bags      float64\n",
       "XLarge Bags     float64\n",
       "type             object\n",
       "year              int64\n",
       "region           object\n",
       "dtype: object"
      ]
     },
     "execution_count": 7,
     "metadata": {},
     "output_type": "execute_result"
    }
   ],
   "source": [
    "data.dtypes"
   ]
  },
  {
   "cell_type": "markdown",
   "metadata": {},
   "source": [
    "# Q1 : הציגו טבלה שמציגה כמה אבוקדו נמכר בכל איזור בכל שנה. "
   ]
  },
  {
   "cell_type": "code",
   "execution_count": 8,
   "metadata": {},
   "outputs": [
    {
     "data": {
      "text/html": [
       "<div>\n",
       "<style scoped>\n",
       "    .dataframe tbody tr th:only-of-type {\n",
       "        vertical-align: middle;\n",
       "    }\n",
       "\n",
       "    .dataframe tbody tr th {\n",
       "        vertical-align: top;\n",
       "    }\n",
       "\n",
       "    .dataframe thead th {\n",
       "        text-align: right;\n",
       "    }\n",
       "</style>\n",
       "<table border=\"1\" class=\"dataframe\">\n",
       "  <thead>\n",
       "    <tr style=\"text-align: right;\">\n",
       "      <th>year</th>\n",
       "      <th>2015</th>\n",
       "      <th>2016</th>\n",
       "      <th>2017</th>\n",
       "      <th>2018</th>\n",
       "    </tr>\n",
       "    <tr>\n",
       "      <th>region</th>\n",
       "      <th></th>\n",
       "      <th></th>\n",
       "      <th></th>\n",
       "      <th></th>\n",
       "    </tr>\n",
       "  </thead>\n",
       "  <tbody>\n",
       "    <tr>\n",
       "      <th>Albany</th>\n",
       "      <td>4.029896e+06</td>\n",
       "      <td>5.264336e+06</td>\n",
       "      <td>5.231582e+06</td>\n",
       "      <td>1.541986e+06</td>\n",
       "    </tr>\n",
       "    <tr>\n",
       "      <th>Atlanta</th>\n",
       "      <td>2.323170e+07</td>\n",
       "      <td>2.832688e+07</td>\n",
       "      <td>2.881512e+07</td>\n",
       "      <td>8.231422e+06</td>\n",
       "    </tr>\n",
       "    <tr>\n",
       "      <th>BaltimoreWashington</th>\n",
       "      <td>4.064558e+07</td>\n",
       "      <td>4.089380e+07</td>\n",
       "      <td>4.101563e+07</td>\n",
       "      <td>1.215890e+07</td>\n",
       "    </tr>\n",
       "    <tr>\n",
       "      <th>Boise</th>\n",
       "      <td>3.784357e+06</td>\n",
       "      <td>4.653510e+06</td>\n",
       "      <td>4.760561e+06</td>\n",
       "      <td>1.214760e+06</td>\n",
       "    </tr>\n",
       "    <tr>\n",
       "      <th>Boston</th>\n",
       "      <td>2.745499e+07</td>\n",
       "      <td>3.057132e+07</td>\n",
       "      <td>3.061067e+07</td>\n",
       "      <td>8.637006e+06</td>\n",
       "    </tr>\n",
       "    <tr>\n",
       "      <th>BuffaloRochester</th>\n",
       "      <td>5.893235e+06</td>\n",
       "      <td>7.205112e+06</td>\n",
       "      <td>7.740306e+06</td>\n",
       "      <td>2.123818e+06</td>\n",
       "    </tr>\n",
       "    <tr>\n",
       "      <th>California</th>\n",
       "      <td>3.014074e+08</td>\n",
       "      <td>3.261884e+08</td>\n",
       "      <td>3.176445e+08</td>\n",
       "      <td>8.374131e+07</td>\n",
       "    </tr>\n",
       "    <tr>\n",
       "      <th>Charlotte</th>\n",
       "      <td>9.487343e+06</td>\n",
       "      <td>1.058672e+07</td>\n",
       "      <td>1.189559e+07</td>\n",
       "      <td>3.585890e+06</td>\n",
       "    </tr>\n",
       "    <tr>\n",
       "      <th>Chicago</th>\n",
       "      <td>4.149472e+07</td>\n",
       "      <td>3.961264e+07</td>\n",
       "      <td>4.098075e+07</td>\n",
       "      <td>1.161423e+07</td>\n",
       "    </tr>\n",
       "    <tr>\n",
       "      <th>CincinnatiDayton</th>\n",
       "      <td>1.175618e+07</td>\n",
       "      <td>1.402087e+07</td>\n",
       "      <td>1.514668e+07</td>\n",
       "      <td>3.598287e+06</td>\n",
       "    </tr>\n",
       "    <tr>\n",
       "      <th>Columbus</th>\n",
       "      <td>7.849782e+06</td>\n",
       "      <td>9.059467e+06</td>\n",
       "      <td>1.024021e+07</td>\n",
       "      <td>2.843900e+06</td>\n",
       "    </tr>\n",
       "    <tr>\n",
       "      <th>DallasFtWorth</th>\n",
       "      <td>6.031131e+07</td>\n",
       "      <td>6.369525e+07</td>\n",
       "      <td>6.624098e+07</td>\n",
       "      <td>1.817175e+07</td>\n",
       "    </tr>\n",
       "    <tr>\n",
       "      <th>Denver</th>\n",
       "      <td>3.919034e+07</td>\n",
       "      <td>4.530776e+07</td>\n",
       "      <td>4.255908e+07</td>\n",
       "      <td>1.184535e+07</td>\n",
       "    </tr>\n",
       "    <tr>\n",
       "      <th>Detroit</th>\n",
       "      <td>1.797958e+07</td>\n",
       "      <td>1.890746e+07</td>\n",
       "      <td>2.051242e+07</td>\n",
       "      <td>6.022957e+06</td>\n",
       "    </tr>\n",
       "    <tr>\n",
       "      <th>GrandRapids</th>\n",
       "      <td>9.740943e+06</td>\n",
       "      <td>9.146872e+06</td>\n",
       "      <td>8.754458e+06</td>\n",
       "      <td>2.569463e+06</td>\n",
       "    </tr>\n",
       "    <tr>\n",
       "      <th>GreatLakes</th>\n",
       "      <td>1.693880e+08</td>\n",
       "      <td>1.777400e+08</td>\n",
       "      <td>1.893539e+08</td>\n",
       "      <td>5.316068e+07</td>\n",
       "    </tr>\n",
       "    <tr>\n",
       "      <th>HarrisburgScranton</th>\n",
       "      <td>1.163790e+07</td>\n",
       "      <td>1.312482e+07</td>\n",
       "      <td>1.314432e+07</td>\n",
       "      <td>3.901812e+06</td>\n",
       "    </tr>\n",
       "    <tr>\n",
       "      <th>HartfordSpringfield</th>\n",
       "      <td>1.516224e+07</td>\n",
       "      <td>1.569795e+07</td>\n",
       "      <td>1.532260e+07</td>\n",
       "      <td>4.487741e+06</td>\n",
       "    </tr>\n",
       "    <tr>\n",
       "      <th>Houston</th>\n",
       "      <td>5.538747e+07</td>\n",
       "      <td>5.870479e+07</td>\n",
       "      <td>6.909309e+07</td>\n",
       "      <td>1.998252e+07</td>\n",
       "    </tr>\n",
       "    <tr>\n",
       "      <th>Indianapolis</th>\n",
       "      <td>8.189062e+06</td>\n",
       "      <td>9.164454e+06</td>\n",
       "      <td>1.000120e+07</td>\n",
       "      <td>2.908675e+06</td>\n",
       "    </tr>\n",
       "    <tr>\n",
       "      <th>Jacksonville</th>\n",
       "      <td>7.176477e+06</td>\n",
       "      <td>9.711836e+06</td>\n",
       "      <td>9.193288e+06</td>\n",
       "      <td>2.708404e+06</td>\n",
       "    </tr>\n",
       "    <tr>\n",
       "      <th>LasVegas</th>\n",
       "      <td>1.554243e+07</td>\n",
       "      <td>1.690701e+07</td>\n",
       "      <td>1.743383e+07</td>\n",
       "      <td>4.493632e+06</td>\n",
       "    </tr>\n",
       "    <tr>\n",
       "      <th>LosAngeles</th>\n",
       "      <td>1.482207e+08</td>\n",
       "      <td>1.631423e+08</td>\n",
       "      <td>1.584812e+08</td>\n",
       "      <td>3.805238e+07</td>\n",
       "    </tr>\n",
       "    <tr>\n",
       "      <th>Louisville</th>\n",
       "      <td>4.289003e+06</td>\n",
       "      <td>5.076329e+06</td>\n",
       "      <td>5.260109e+06</td>\n",
       "      <td>1.471561e+06</td>\n",
       "    </tr>\n",
       "    <tr>\n",
       "      <th>MiamiFtLauderdale</th>\n",
       "      <td>2.516651e+07</td>\n",
       "      <td>3.188506e+07</td>\n",
       "      <td>3.088023e+07</td>\n",
       "      <td>9.741421e+06</td>\n",
       "    </tr>\n",
       "    <tr>\n",
       "      <th>Midsouth</th>\n",
       "      <td>1.402219e+08</td>\n",
       "      <td>1.542605e+08</td>\n",
       "      <td>1.655536e+08</td>\n",
       "      <td>4.831339e+07</td>\n",
       "    </tr>\n",
       "    <tr>\n",
       "      <th>Nashville</th>\n",
       "      <td>8.661916e+06</td>\n",
       "      <td>1.049917e+07</td>\n",
       "      <td>1.293864e+07</td>\n",
       "      <td>3.512353e+06</td>\n",
       "    </tr>\n",
       "    <tr>\n",
       "      <th>NewOrleansMobile</th>\n",
       "      <td>1.266431e+07</td>\n",
       "      <td>1.464037e+07</td>\n",
       "      <td>1.432650e+07</td>\n",
       "      <td>4.063961e+06</td>\n",
       "    </tr>\n",
       "    <tr>\n",
       "      <th>NewYork</th>\n",
       "      <td>7.060764e+07</td>\n",
       "      <td>7.154656e+07</td>\n",
       "      <td>7.485067e+07</td>\n",
       "      <td>2.372926e+07</td>\n",
       "    </tr>\n",
       "    <tr>\n",
       "      <th>Northeast</th>\n",
       "      <td>2.033790e+08</td>\n",
       "      <td>2.189311e+08</td>\n",
       "      <td>2.246473e+08</td>\n",
       "      <td>6.632354e+07</td>\n",
       "    </tr>\n",
       "    <tr>\n",
       "      <th>NorthernNewEngland</th>\n",
       "      <td>2.009463e+07</td>\n",
       "      <td>2.214181e+07</td>\n",
       "      <td>2.266029e+07</td>\n",
       "      <td>6.636169e+06</td>\n",
       "    </tr>\n",
       "    <tr>\n",
       "      <th>Orlando</th>\n",
       "      <td>1.471958e+07</td>\n",
       "      <td>1.921479e+07</td>\n",
       "      <td>1.881140e+07</td>\n",
       "      <td>5.914939e+06</td>\n",
       "    </tr>\n",
       "    <tr>\n",
       "      <th>Philadelphia</th>\n",
       "      <td>2.089222e+07</td>\n",
       "      <td>2.210810e+07</td>\n",
       "      <td>2.227124e+07</td>\n",
       "      <td>6.567237e+06</td>\n",
       "    </tr>\n",
       "    <tr>\n",
       "      <th>PhoenixTucson</th>\n",
       "      <td>5.717629e+07</td>\n",
       "      <td>5.928369e+07</td>\n",
       "      <td>6.117053e+07</td>\n",
       "      <td>1.801281e+07</td>\n",
       "    </tr>\n",
       "    <tr>\n",
       "      <th>Pittsburgh</th>\n",
       "      <td>4.540000e+06</td>\n",
       "      <td>5.516198e+06</td>\n",
       "      <td>6.848629e+06</td>\n",
       "      <td>1.901520e+06</td>\n",
       "    </tr>\n",
       "    <tr>\n",
       "      <th>Plains</th>\n",
       "      <td>8.763879e+07</td>\n",
       "      <td>9.524163e+07</td>\n",
       "      <td>1.002800e+08</td>\n",
       "      <td>2.802807e+07</td>\n",
       "    </tr>\n",
       "    <tr>\n",
       "      <th>Portland</th>\n",
       "      <td>2.794346e+07</td>\n",
       "      <td>3.731151e+07</td>\n",
       "      <td>3.689945e+07</td>\n",
       "      <td>8.397790e+06</td>\n",
       "    </tr>\n",
       "    <tr>\n",
       "      <th>RaleighGreensboro</th>\n",
       "      <td>1.281733e+07</td>\n",
       "      <td>1.456785e+07</td>\n",
       "      <td>1.602865e+07</td>\n",
       "      <td>4.788895e+06</td>\n",
       "    </tr>\n",
       "    <tr>\n",
       "      <th>RichmondNorfolk</th>\n",
       "      <td>1.165108e+07</td>\n",
       "      <td>1.293803e+07</td>\n",
       "      <td>1.364692e+07</td>\n",
       "      <td>3.994823e+06</td>\n",
       "    </tr>\n",
       "    <tr>\n",
       "      <th>Roanoke</th>\n",
       "      <td>6.778813e+06</td>\n",
       "      <td>7.686817e+06</td>\n",
       "      <td>8.085612e+06</td>\n",
       "      <td>2.490770e+06</td>\n",
       "    </tr>\n",
       "    <tr>\n",
       "      <th>Sacramento</th>\n",
       "      <td>2.198054e+07</td>\n",
       "      <td>2.312303e+07</td>\n",
       "      <td>2.319243e+07</td>\n",
       "      <td>6.867750e+06</td>\n",
       "    </tr>\n",
       "    <tr>\n",
       "      <th>SanDiego</th>\n",
       "      <td>2.658573e+07</td>\n",
       "      <td>2.933805e+07</td>\n",
       "      <td>2.719429e+07</td>\n",
       "      <td>6.673850e+06</td>\n",
       "    </tr>\n",
       "    <tr>\n",
       "      <th>SanFrancisco</th>\n",
       "      <td>3.944580e+07</td>\n",
       "      <td>4.152963e+07</td>\n",
       "      <td>4.187150e+07</td>\n",
       "      <td>1.298326e+07</td>\n",
       "    </tr>\n",
       "    <tr>\n",
       "      <th>Seattle</th>\n",
       "      <td>2.905710e+07</td>\n",
       "      <td>3.718842e+07</td>\n",
       "      <td>3.502757e+07</td>\n",
       "      <td>7.941094e+06</td>\n",
       "    </tr>\n",
       "    <tr>\n",
       "      <th>SouthCarolina</th>\n",
       "      <td>1.624587e+07</td>\n",
       "      <td>1.870286e+07</td>\n",
       "      <td>1.996897e+07</td>\n",
       "      <td>5.836081e+06</td>\n",
       "    </tr>\n",
       "    <tr>\n",
       "      <th>SouthCentral</th>\n",
       "      <td>2.904546e+08</td>\n",
       "      <td>3.040987e+08</td>\n",
       "      <td>3.254226e+08</td>\n",
       "      <td>9.130371e+07</td>\n",
       "    </tr>\n",
       "    <tr>\n",
       "      <th>Southeast</th>\n",
       "      <td>1.600952e+08</td>\n",
       "      <td>1.981215e+08</td>\n",
       "      <td>1.967373e+08</td>\n",
       "      <td>6.028447e+07</td>\n",
       "    </tr>\n",
       "    <tr>\n",
       "      <th>Spokane</th>\n",
       "      <td>4.181687e+06</td>\n",
       "      <td>5.006167e+06</td>\n",
       "      <td>5.151528e+06</td>\n",
       "      <td>1.225893e+06</td>\n",
       "    </tr>\n",
       "    <tr>\n",
       "      <th>StLouis</th>\n",
       "      <td>9.902575e+06</td>\n",
       "      <td>1.064448e+07</td>\n",
       "      <td>8.988123e+06</td>\n",
       "      <td>2.537660e+06</td>\n",
       "    </tr>\n",
       "    <tr>\n",
       "      <th>Syracuse</th>\n",
       "      <td>2.734333e+06</td>\n",
       "      <td>3.429369e+06</td>\n",
       "      <td>3.731978e+06</td>\n",
       "      <td>1.046988e+06</td>\n",
       "    </tr>\n",
       "    <tr>\n",
       "      <th>Tampa</th>\n",
       "      <td>1.713160e+07</td>\n",
       "      <td>2.168075e+07</td>\n",
       "      <td>2.055014e+07</td>\n",
       "      <td>6.642055e+06</td>\n",
       "    </tr>\n",
       "    <tr>\n",
       "      <th>TotalUS</th>\n",
       "      <td>1.657255e+09</td>\n",
       "      <td>1.819159e+09</td>\n",
       "      <td>1.864694e+09</td>\n",
       "      <td>5.236323e+08</td>\n",
       "    </tr>\n",
       "    <tr>\n",
       "      <th>West</th>\n",
       "      <td>3.046703e+08</td>\n",
       "      <td>3.445773e+08</td>\n",
       "      <td>3.450544e+08</td>\n",
       "      <td>9.247709e+07</td>\n",
       "    </tr>\n",
       "    <tr>\n",
       "      <th>WestTexNewMexico</th>\n",
       "      <td>4.152400e+07</td>\n",
       "      <td>4.380743e+07</td>\n",
       "      <td>4.738959e+07</td>\n",
       "      <td>1.180082e+07</td>\n",
       "    </tr>\n",
       "  </tbody>\n",
       "</table>\n",
       "</div>"
      ],
      "text/plain": [
       "year                         2015          2016          2017          2018\n",
       "region                                                                     \n",
       "Albany               4.029896e+06  5.264336e+06  5.231582e+06  1.541986e+06\n",
       "Atlanta              2.323170e+07  2.832688e+07  2.881512e+07  8.231422e+06\n",
       "BaltimoreWashington  4.064558e+07  4.089380e+07  4.101563e+07  1.215890e+07\n",
       "Boise                3.784357e+06  4.653510e+06  4.760561e+06  1.214760e+06\n",
       "Boston               2.745499e+07  3.057132e+07  3.061067e+07  8.637006e+06\n",
       "BuffaloRochester     5.893235e+06  7.205112e+06  7.740306e+06  2.123818e+06\n",
       "California           3.014074e+08  3.261884e+08  3.176445e+08  8.374131e+07\n",
       "Charlotte            9.487343e+06  1.058672e+07  1.189559e+07  3.585890e+06\n",
       "Chicago              4.149472e+07  3.961264e+07  4.098075e+07  1.161423e+07\n",
       "CincinnatiDayton     1.175618e+07  1.402087e+07  1.514668e+07  3.598287e+06\n",
       "Columbus             7.849782e+06  9.059467e+06  1.024021e+07  2.843900e+06\n",
       "DallasFtWorth        6.031131e+07  6.369525e+07  6.624098e+07  1.817175e+07\n",
       "Denver               3.919034e+07  4.530776e+07  4.255908e+07  1.184535e+07\n",
       "Detroit              1.797958e+07  1.890746e+07  2.051242e+07  6.022957e+06\n",
       "GrandRapids          9.740943e+06  9.146872e+06  8.754458e+06  2.569463e+06\n",
       "GreatLakes           1.693880e+08  1.777400e+08  1.893539e+08  5.316068e+07\n",
       "HarrisburgScranton   1.163790e+07  1.312482e+07  1.314432e+07  3.901812e+06\n",
       "HartfordSpringfield  1.516224e+07  1.569795e+07  1.532260e+07  4.487741e+06\n",
       "Houston              5.538747e+07  5.870479e+07  6.909309e+07  1.998252e+07\n",
       "Indianapolis         8.189062e+06  9.164454e+06  1.000120e+07  2.908675e+06\n",
       "Jacksonville         7.176477e+06  9.711836e+06  9.193288e+06  2.708404e+06\n",
       "LasVegas             1.554243e+07  1.690701e+07  1.743383e+07  4.493632e+06\n",
       "LosAngeles           1.482207e+08  1.631423e+08  1.584812e+08  3.805238e+07\n",
       "Louisville           4.289003e+06  5.076329e+06  5.260109e+06  1.471561e+06\n",
       "MiamiFtLauderdale    2.516651e+07  3.188506e+07  3.088023e+07  9.741421e+06\n",
       "Midsouth             1.402219e+08  1.542605e+08  1.655536e+08  4.831339e+07\n",
       "Nashville            8.661916e+06  1.049917e+07  1.293864e+07  3.512353e+06\n",
       "NewOrleansMobile     1.266431e+07  1.464037e+07  1.432650e+07  4.063961e+06\n",
       "NewYork              7.060764e+07  7.154656e+07  7.485067e+07  2.372926e+07\n",
       "Northeast            2.033790e+08  2.189311e+08  2.246473e+08  6.632354e+07\n",
       "NorthernNewEngland   2.009463e+07  2.214181e+07  2.266029e+07  6.636169e+06\n",
       "Orlando              1.471958e+07  1.921479e+07  1.881140e+07  5.914939e+06\n",
       "Philadelphia         2.089222e+07  2.210810e+07  2.227124e+07  6.567237e+06\n",
       "PhoenixTucson        5.717629e+07  5.928369e+07  6.117053e+07  1.801281e+07\n",
       "Pittsburgh           4.540000e+06  5.516198e+06  6.848629e+06  1.901520e+06\n",
       "Plains               8.763879e+07  9.524163e+07  1.002800e+08  2.802807e+07\n",
       "Portland             2.794346e+07  3.731151e+07  3.689945e+07  8.397790e+06\n",
       "RaleighGreensboro    1.281733e+07  1.456785e+07  1.602865e+07  4.788895e+06\n",
       "RichmondNorfolk      1.165108e+07  1.293803e+07  1.364692e+07  3.994823e+06\n",
       "Roanoke              6.778813e+06  7.686817e+06  8.085612e+06  2.490770e+06\n",
       "Sacramento           2.198054e+07  2.312303e+07  2.319243e+07  6.867750e+06\n",
       "SanDiego             2.658573e+07  2.933805e+07  2.719429e+07  6.673850e+06\n",
       "SanFrancisco         3.944580e+07  4.152963e+07  4.187150e+07  1.298326e+07\n",
       "Seattle              2.905710e+07  3.718842e+07  3.502757e+07  7.941094e+06\n",
       "SouthCarolina        1.624587e+07  1.870286e+07  1.996897e+07  5.836081e+06\n",
       "SouthCentral         2.904546e+08  3.040987e+08  3.254226e+08  9.130371e+07\n",
       "Southeast            1.600952e+08  1.981215e+08  1.967373e+08  6.028447e+07\n",
       "Spokane              4.181687e+06  5.006167e+06  5.151528e+06  1.225893e+06\n",
       "StLouis              9.902575e+06  1.064448e+07  8.988123e+06  2.537660e+06\n",
       "Syracuse             2.734333e+06  3.429369e+06  3.731978e+06  1.046988e+06\n",
       "Tampa                1.713160e+07  2.168075e+07  2.055014e+07  6.642055e+06\n",
       "TotalUS              1.657255e+09  1.819159e+09  1.864694e+09  5.236323e+08\n",
       "West                 3.046703e+08  3.445773e+08  3.450544e+08  9.247709e+07\n",
       "WestTexNewMexico     4.152400e+07  4.380743e+07  4.738959e+07  1.180082e+07"
      ]
     },
     "execution_count": 8,
     "metadata": {},
     "output_type": "execute_result"
    }
   ],
   "source": [
    " data.pivot_table('total_sold', index='region', columns='year', aggfunc='sum')"
   ]
  },
  {
   "cell_type": "markdown",
   "metadata": {},
   "source": [
    "# Q2: צרו dataframe חדש שמכיל רק איזור (region (שמתחיל באות הראשונה של שמכם, ואת השנה (year (2016 .במידה ואין איזור באות הראשונה של השם שלכם, ביחרו את האיזור עם האות הקרובה ביותר )לא משנה לאיזה כיוון באלף- בית(. כמה שורות יש ב dataframe שלכם?"
   ]
  },
  {
   "cell_type": "code",
   "execution_count": 9,
   "metadata": {},
   "outputs": [
    {
     "data": {
      "text/plain": [
       "104"
      ]
     },
     "execution_count": 9,
     "metadata": {},
     "output_type": "execute_result"
    }
   ],
   "source": [
    "data[data['region'].str.startswith('S')]\n",
    "s_data= data[data.region=='Sacramento'].copy()\n",
    "s_data_2016= s_data[s_data.year==2016].copy()\n",
    "len(s_data_2016)"
   ]
  },
  {
   "cell_type": "markdown",
   "metadata": {},
   "source": [
    "# Q3: על אותו ה dataframe שיצרתם ב שאלה 2 :מהו הממוצע מכירות? "
   ]
  },
  {
   "cell_type": "code",
   "execution_count": 10,
   "metadata": {},
   "outputs": [
    {
     "data": {
      "text/plain": [
       "222336.8305769231"
      ]
     },
     "execution_count": 10,
     "metadata": {},
     "output_type": "execute_result"
    }
   ],
   "source": [
    "s_data_2016['total_sold'].mean()"
   ]
  },
  {
   "cell_type": "markdown",
   "metadata": {},
   "source": [
    "# Q4: על אותו ה dataframe שיצרתם בשאלה 2 :מהי סך הכל כמות שקיות האבוקדו שנמכרו )העמודה bags total )בחודש ספטמבר )חודש מספר 9 ,בעמודה date "
   ]
  },
  {
   "cell_type": "code",
   "execution_count": 11,
   "metadata": {},
   "outputs": [
    {
     "data": {
      "text/plain": [
       "138443.37999999998"
      ]
     },
     "execution_count": 11,
     "metadata": {},
     "output_type": "execute_result"
    }
   ],
   "source": [
    "from datetime import date\n",
    "s_data_2016['Date'] = pd.to_datetime(s_data_2016.Date)\n",
    "\n",
    "s_data_2016['month'] = pd.DatetimeIndex(s_data_2016.Date).month\n",
    "\n",
    "\n",
    "s_data_2016_sep = s_data_2016[s_data_2016.month == 9]\n",
    "s_data_2016_sep['Total Bags'].sum()\n"
   ]
  },
  {
   "cell_type": "markdown",
   "metadata": {},
   "source": [
    "# Q5 :)העמודה types צרו ויזואליזציה שמראה השוואה בין כמות האב וקדו )העמודה sold_total )משני הסוגים \n",
    " "
   ]
  },
  {
   "cell_type": "code",
   "execution_count": 12,
   "metadata": {},
   "outputs": [
    {
     "data": {
      "text/plain": [
       "<AxesSubplot:xlabel=' conventiona/organic', ylabel='total sales'>"
      ]
     },
     "execution_count": 12,
     "metadata": {},
     "output_type": "execute_result"
    },
    {
     "data": {
      "image/png": "[encoded data removed]",
      "text/plain": [
       "<Figure size 432x288 with 1 Axes>"
      ]
     },
     "metadata": {
      "needs_background": "light"
     },
     "output_type": "display_data"
    }
   ],
   "source": [
    "ax=data.pivot_table('total_sold', 'type', aggfunc='sum').plot(kind='bar')\n",
    "ax.set_ylabel(\"total sales\",fontsize=12)\n",
    "ax.set_xlabel(\" conventiona/organic\")\n",
    "ax\n"
   ]
  },
  {
   "cell_type": "markdown",
   "metadata": {},
   "source": [
    "# Q6:  לב שימו . averagePrice, total_bags, total_sold, type העמודות עבור הקורלציה את ה שיש לטפל תחילה בעמודה type כי היא אינה מספרית"
   ]
  },
  {
   "cell_type": "code",
   "execution_count": 13,
   "metadata": {},
   "outputs": [
    {
     "data": {
      "text/html": [
       "<style  type=\"text/css\" >\n",
       "#T_4034a_row0_col0,#T_4034a_row1_col1,#T_4034a_row2_col2,#T_4034a_row3_col3{\n",
       "            background-color:  #08306b;\n",
       "            color:  #f1f1f1;\n",
       "        }#T_4034a_row0_col1,#T_4034a_row1_col0{\n",
       "            background-color:  #083776;\n",
       "            color:  #f1f1f1;\n",
       "        }#T_4034a_row0_col2,#T_4034a_row0_col3,#T_4034a_row3_col0,#T_4034a_row3_col1{\n",
       "            background-color:  #f7fbff;\n",
       "            color:  #000000;\n",
       "        }#T_4034a_row1_col2,#T_4034a_row1_col3{\n",
       "            background-color:  #f5f9fe;\n",
       "            color:  #000000;\n",
       "        }#T_4034a_row2_col0,#T_4034a_row2_col1{\n",
       "            background-color:  #f1f7fd;\n",
       "            color:  #000000;\n",
       "        }#T_4034a_row2_col3{\n",
       "            background-color:  #3181bd;\n",
       "            color:  #000000;\n",
       "        }#T_4034a_row3_col2{\n",
       "            background-color:  #3484bf;\n",
       "            color:  #000000;\n",
       "        }</style><table id=\"T_4034a_\" ><thead>    <tr>        <th class=\"blank level0\" ></th>        <th class=\"col_heading level0 col0\" >total_sold</th>        <th class=\"col_heading level0 col1\" >Total Bags</th>        <th class=\"col_heading level0 col2\" >AveragePrice</th>        <th class=\"col_heading level0 col3\" >Type</th>    </tr></thead><tbody>\n",
       "                <tr>\n",
       "                        <th id=\"T_4034a_level0_row0\" class=\"row_heading level0 row0\" >total_sold</th>\n",
       "                        <td id=\"T_4034a_row0_col0\" class=\"data row0 col0\" >1.000000</td>\n",
       "                        <td id=\"T_4034a_row0_col1\" class=\"data row0 col1\" >0.963047</td>\n",
       "                        <td id=\"T_4034a_row0_col2\" class=\"data row0 col2\" >-0.192752</td>\n",
       "                        <td id=\"T_4034a_row0_col3\" class=\"data row0 col3\" >-0.232434</td>\n",
       "            </tr>\n",
       "            <tr>\n",
       "                        <th id=\"T_4034a_level0_row1\" class=\"row_heading level0 row1\" >Total Bags</th>\n",
       "                        <td id=\"T_4034a_row1_col0\" class=\"data row1 col0\" >0.963047</td>\n",
       "                        <td id=\"T_4034a_row1_col1\" class=\"data row1 col1\" >1.000000</td>\n",
       "                        <td id=\"T_4034a_row1_col2\" class=\"data row1 col2\" >-0.177088</td>\n",
       "                        <td id=\"T_4034a_row1_col3\" class=\"data row1 col3\" >-0.217788</td>\n",
       "            </tr>\n",
       "            <tr>\n",
       "                        <th id=\"T_4034a_level0_row2\" class=\"row_heading level0 row2\" >AveragePrice</th>\n",
       "                        <td id=\"T_4034a_row2_col0\" class=\"data row2 col0\" >-0.192752</td>\n",
       "                        <td id=\"T_4034a_row2_col1\" class=\"data row2 col1\" >-0.177088</td>\n",
       "                        <td id=\"T_4034a_row2_col2\" class=\"data row2 col2\" >1.000000</td>\n",
       "                        <td id=\"T_4034a_row2_col3\" class=\"data row2 col3\" >0.615845</td>\n",
       "            </tr>\n",
       "            <tr>\n",
       "                        <th id=\"T_4034a_level0_row3\" class=\"row_heading level0 row3\" >Type</th>\n",
       "                        <td id=\"T_4034a_row3_col0\" class=\"data row3 col0\" >-0.232434</td>\n",
       "                        <td id=\"T_4034a_row3_col1\" class=\"data row3 col1\" >-0.217788</td>\n",
       "                        <td id=\"T_4034a_row3_col2\" class=\"data row3 col2\" >0.615845</td>\n",
       "                        <td id=\"T_4034a_row3_col3\" class=\"data row3 col3\" >1.000000</td>\n",
       "            </tr>\n",
       "    </tbody></table>"
      ],
      "text/plain": [
       "<pandas.io.formats.style.Styler at 0x2ac8329adf0>"
      ]
     },
     "execution_count": 13,
     "metadata": {},
     "output_type": "execute_result"
    }
   ],
   "source": [
    "data['Type'] = data['type'].astype('category').cat.codes\n",
    "features = ['total_sold', 'Total Bags', 'AveragePrice', 'Type']\n",
    "correlation_matrix = data[features].corr()\n",
    "correlation_matrix.style.background_gradient(cmap='Blues')"
   ]
  },
  {
   "cell_type": "code",
   "execution_count": null,
   "metadata": {},
   "outputs": [],
   "source": []
  },
  {
   "cell_type": "markdown",
   "metadata": {},
   "source": [
    "# Q7: צרו scatterplot עבור הקורלציה הכי חזקה שמצאתם עם צבע (hue ( ויש תיקו קחו את אחת מהקורלציות הכי חזקות.על פי השנה. במידה \n",
    " "
   ]
  },
  {
   "cell_type": "code",
   "execution_count": 14,
   "metadata": {},
   "outputs": [
    {
     "data": {
      "text/plain": [
       "<AxesSubplot:xlabel='total_sold', ylabel='Total Bags'>"
      ]
     },
     "execution_count": 14,
     "metadata": {},
     "output_type": "execute_result"
    },
    {
     "data": {
      "image/png": "[encoded data removed]",
      "text/plain": [
       "<Figure size 432x288 with 1 Axes>"
      ]
     },
     "metadata": {
      "needs_background": "light"
     },
     "output_type": "display_data"
    }
   ],
   "source": [
    "import matplotlib.pyplot as plt\n",
    "highest = correlation_matrix.unstack().sort_values()[-5:]\n",
    "titles= pd.Series.keys(highest)\n",
    "titles\n",
    "f_fig= sns.scatterplot( data= data, x = titles[0][1] , y=titles[0][0], hue='year')\n",
    "f_fig\n"
   ]
  },
  {
   "cell_type": "markdown",
   "metadata": {},
   "source": [
    "---\n",
    "# GOOD LUCK !!!!\n",
    "---"
   ]
  },
  {
   "cell_type": "markdown",
   "metadata": {},
   "source": [
    "### Q8:מתאימה  במידה ויש ערכים חסרים באחת העמודות , השלימו אותם בעזרת חציון/ממוצע/שיטה אחרת \n"
   ]
  },
  {
   "cell_type": "code",
   "execution_count": 15,
   "metadata": {},
   "outputs": [
    {
     "data": {
      "text/plain": [
       "Unnamed: 0      0\n",
       "Date            0\n",
       "AveragePrice    0\n",
       "total_sold      0\n",
       "small_sold      0\n",
       "large_sold      0\n",
       "sma             0\n",
       "Total Bags      0\n",
       "Small Bags      0\n",
       "Large Bags      0\n",
       "XLarge Bags     0\n",
       "type            0\n",
       "year            0\n",
       "region          0\n",
       "Type            0\n",
       "dtype: int64"
      ]
     },
     "execution_count": 15,
     "metadata": {},
     "output_type": "execute_result"
    }
   ],
   "source": [
    "data.isnull().sum()"
   ]
  },
  {
   "cell_type": "markdown",
   "metadata": {},
   "source": [
    "### Q9: הראו את התפלגות הנתונים עבור sold_total הקפידו שציר y יהיה ב Logscale( המשמעות: \n",
    "צרו הסטוגרמה(."
   ]
  },
  {
   "cell_type": "code",
   "execution_count": 16,
   "metadata": {},
   "outputs": [
    {
     "data": {
      "text/plain": [
       "Text(0, 0.5, 'count')"
      ]
     },
     "execution_count": 16,
     "metadata": {},
     "output_type": "execute_result"
    },
    {
     "data": {
      "image/png": "[encoded data removed]",
      "text/plain": [
       "<Figure size 432x288 with 1 Axes>"
      ]
     },
     "metadata": {
      "needs_background": "light"
     },
     "output_type": "display_data"
    }
   ],
   "source": [
    "data.hist('total_sold',log= True)\n",
    "plt.xlabel('total_sold')\n",
    "plt.ylabel('count')"
   ]
  },
  {
   "cell_type": "code",
   "execution_count": 17,
   "metadata": {},
   "outputs": [
    {
     "data": {
      "image/png": "[encoded data removed]",
      "text/plain": [
       "<Figure size 432x288 with 1 Axes>"
      ]
     },
     "metadata": {
      "needs_background": "light"
     },
     "output_type": "display_data"
    }
   ],
   "source": [
    "ax= sns.histplot(data=data['total_sold'])\n",
    "ax.set_yscale('log')"
   ]
  },
  {
   "cell_type": "markdown",
   "metadata": {},
   "source": [
    "### Q10:  type )על פני כל השנים )העמודה year צרו טבלה שמראה את המחיר הממוצע )העמודה averagePrice )לכל סוג אבוקדו )העמודה \n"
   ]
  },
  {
   "cell_type": "code",
   "execution_count": 18,
   "metadata": {},
   "outputs": [
    {
     "data": {
      "text/html": [
       "<div>\n",
       "<style scoped>\n",
       "    .dataframe tbody tr th:only-of-type {\n",
       "        vertical-align: middle;\n",
       "    }\n",
       "\n",
       "    .dataframe tbody tr th {\n",
       "        vertical-align: top;\n",
       "    }\n",
       "\n",
       "    .dataframe thead th {\n",
       "        text-align: right;\n",
       "    }\n",
       "</style>\n",
       "<table border=\"1\" class=\"dataframe\">\n",
       "  <thead>\n",
       "    <tr style=\"text-align: right;\">\n",
       "      <th>year</th>\n",
       "      <th>2015</th>\n",
       "      <th>2016</th>\n",
       "      <th>2017</th>\n",
       "      <th>2018</th>\n",
       "    </tr>\n",
       "    <tr>\n",
       "      <th>type</th>\n",
       "      <th></th>\n",
       "      <th></th>\n",
       "      <th></th>\n",
       "      <th></th>\n",
       "    </tr>\n",
       "  </thead>\n",
       "  <tbody>\n",
       "    <tr>\n",
       "      <th>conventional</th>\n",
       "      <td>1.077963</td>\n",
       "      <td>1.105595</td>\n",
       "      <td>1.294888</td>\n",
       "      <td>1.127886</td>\n",
       "    </tr>\n",
       "    <tr>\n",
       "      <th>organic</th>\n",
       "      <td>1.673324</td>\n",
       "      <td>1.571684</td>\n",
       "      <td>1.735521</td>\n",
       "      <td>1.567176</td>\n",
       "    </tr>\n",
       "  </tbody>\n",
       "</table>\n",
       "</div>"
      ],
      "text/plain": [
       "year              2015      2016      2017      2018\n",
       "type                                                \n",
       "conventional  1.077963  1.105595  1.294888  1.127886\n",
       "organic       1.673324  1.571684  1.735521  1.567176"
      ]
     },
     "execution_count": 18,
     "metadata": {},
     "output_type": "execute_result"
    }
   ],
   "source": [
    "data.pivot_table('AveragePrice', index='type', columns='year', aggfunc='mean')"
   ]
  },
  {
   "cell_type": "markdown",
   "metadata": {},
   "source": [
    "### Q11: הדיוק של המודל שיצרתם? צרו מודל שמנבא את sold_total לפי: bags_total, averagePrice, type, region .מהי רמת \n"
   ]
  },
  {
   "cell_type": "code",
   "execution_count": 19,
   "metadata": {},
   "outputs": [],
   "source": [
    "from sklearn.tree import DecisionTreeRegressor\n",
    "model = DecisionTreeRegressor(random_state=4)"
   ]
  },
  {
   "cell_type": "code",
   "execution_count": 20,
   "metadata": {},
   "outputs": [],
   "source": [
    "data['Region'] = data['region'].astype('category').cat.codes\n"
   ]
  },
  {
   "cell_type": "code",
   "execution_count": 21,
   "metadata": {},
   "outputs": [],
   "source": [
    "features = ['Region','Type','AveragePrice','Total Bags']\n",
    "X = data[features]\n",
    "y = data['total_sold']\n",
    "X_train, X_test, y_train, y_test = sk.model_selection.train_test_split(X, y, test_size=0.3, random_state=42) \n"
   ]
  },
  {
   "cell_type": "code",
   "execution_count": 22,
   "metadata": {},
   "outputs": [
    {
     "data": {
      "text/plain": [
       "DecisionTreeRegressor(random_state=4)"
      ]
     },
     "execution_count": 22,
     "metadata": {},
     "output_type": "execute_result"
    }
   ],
   "source": [
    "model.fit(X_train, y_train)"
   ]
  },
  {
   "cell_type": "code",
   "execution_count": 23,
   "metadata": {},
   "outputs": [],
   "source": [
    "pred = model.predict(X_test)"
   ]
  },
  {
   "cell_type": "code",
   "execution_count": 26,
   "metadata": {},
   "outputs": [
    {
     "data": {
      "text/plain": [
       "546839.7633256813"
      ]
     },
     "execution_count": 26,
     "metadata": {},
     "output_type": "execute_result"
    }
   ],
   "source": [
    "def mse1(a,b):\n",
    "    return np.sqrt(np.square(a-b).mean())\n",
    "mse1(y_test.values,pred)"
   ]
  },
  {
   "cell_type": "code",
   "execution_count": 27,
   "metadata": {},
   "outputs": [
    {
     "data": {
      "text/plain": [
       "299033726754.08716"
      ]
     },
     "execution_count": 27,
     "metadata": {},
     "output_type": "execute_result"
    }
   ],
   "source": [
    "mse(y_test.values,pred)"
   ]
  },
  {
   "cell_type": "code",
   "execution_count": 33,
   "metadata": {},
   "outputs": [
    {
     "data": {
      "text/plain": [
       "<seaborn.axisgrid.FacetGrid at 0x2ac81221a00>"
      ]
     },
     "execution_count": 33,
     "metadata": {},
     "output_type": "execute_result"
    },
    {
     "data": {
      "image/png": "[encoded data removed]",
      "text/plain": [
       "<Figure size 360x360 with 1 Axes>"
      ]
     },
     "metadata": {
      "needs_background": "light"
     },
     "output_type": "display_data"
    }
   ],
   "source": [
    "sns.catplot( data=data, kind=\"strip\",x=\"type\",y = \"total_sold\")"
   ]
  },
  {
   "cell_type": "code",
   "execution_count": null,
   "metadata": {},
   "outputs": [],
   "source": []
  }
 ],
 "metadata": {
  "kernelspec": {
   "display_name": "Python 3",
   "language": "python",
   "name": "python3"
  },
  "language_info": {
   "codemirror_mode": {
    "name": "ipython",
    "version": 3
   },
   "file_extension": ".py",
   "mimetype": "text/x-python",
   "name": "python",
   "nbconvert_exporter": "python",
   "pygments_lexer": "ipython3",
   "version": "3.9.4"
  }
 },
 "nbformat": 4,
 "nbformat_minor": 4
}
