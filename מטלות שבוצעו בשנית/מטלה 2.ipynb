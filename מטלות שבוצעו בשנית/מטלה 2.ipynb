{
 "cells": [
  {
   "cell_type": "code",
   "execution_count": 1,
   "id": "1c5dea5d",
   "metadata": {},
   "outputs": [],
   "source": [
    "import numpy as np\n",
    "import pandas as pd"
   ]
  },
  {
   "cell_type": "code",
   "execution_count": 2,
   "id": "b433c3ce",
   "metadata": {},
   "outputs": [
    {
     "data": {
      "text/html": [
       "<div>\n",
       "<style scoped>\n",
       "    .dataframe tbody tr th:only-of-type {\n",
       "        vertical-align: middle;\n",
       "    }\n",
       "\n",
       "    .dataframe tbody tr th {\n",
       "        vertical-align: top;\n",
       "    }\n",
       "\n",
       "    .dataframe thead th {\n",
       "        text-align: right;\n",
       "    }\n",
       "</style>\n",
       "<table border=\"1\" class=\"dataframe\">\n",
       "  <thead>\n",
       "    <tr style=\"text-align: right;\">\n",
       "      <th></th>\n",
       "      <th>location</th>\n",
       "      <th>iso_code</th>\n",
       "      <th>date</th>\n",
       "      <th>total_vaccinations</th>\n",
       "      <th>people_vaccinated</th>\n",
       "      <th>people_fully_vaccinated</th>\n",
       "      <th>daily_vaccinations_raw</th>\n",
       "      <th>daily_vaccinations</th>\n",
       "      <th>total_vaccinations_per_hundred</th>\n",
       "      <th>people_vaccinated_per_hundred</th>\n",
       "      <th>people_fully_vaccinated_per_hundred</th>\n",
       "      <th>daily_vaccinations_per_million</th>\n",
       "    </tr>\n",
       "  </thead>\n",
       "  <tbody>\n",
       "    <tr>\n",
       "      <th>20020</th>\n",
       "      <td>Saint Helena</td>\n",
       "      <td>SHN</td>\n",
       "      <td>2021-02-03</td>\n",
       "      <td>107.0</td>\n",
       "      <td>107.0</td>\n",
       "      <td>NaN</td>\n",
       "      <td>NaN</td>\n",
       "      <td>NaN</td>\n",
       "      <td>1.76</td>\n",
       "      <td>1.76</td>\n",
       "      <td>NaN</td>\n",
       "      <td>NaN</td>\n",
       "    </tr>\n",
       "    <tr>\n",
       "      <th>20021</th>\n",
       "      <td>Saint Helena</td>\n",
       "      <td>SHN</td>\n",
       "      <td>2021-02-04</td>\n",
       "      <td>NaN</td>\n",
       "      <td>NaN</td>\n",
       "      <td>NaN</td>\n",
       "      <td>NaN</td>\n",
       "      <td>75.0</td>\n",
       "      <td>NaN</td>\n",
       "      <td>NaN</td>\n",
       "      <td>NaN</td>\n",
       "      <td>12354.0</td>\n",
       "    </tr>\n",
       "    <tr>\n",
       "      <th>20022</th>\n",
       "      <td>Saint Helena</td>\n",
       "      <td>SHN</td>\n",
       "      <td>2021-02-05</td>\n",
       "      <td>NaN</td>\n",
       "      <td>NaN</td>\n",
       "      <td>NaN</td>\n",
       "      <td>NaN</td>\n",
       "      <td>75.0</td>\n",
       "      <td>NaN</td>\n",
       "      <td>NaN</td>\n",
       "      <td>NaN</td>\n",
       "      <td>12354.0</td>\n",
       "    </tr>\n",
       "    <tr>\n",
       "      <th>20023</th>\n",
       "      <td>Saint Helena</td>\n",
       "      <td>SHN</td>\n",
       "      <td>2021-02-06</td>\n",
       "      <td>NaN</td>\n",
       "      <td>NaN</td>\n",
       "      <td>NaN</td>\n",
       "      <td>NaN</td>\n",
       "      <td>75.0</td>\n",
       "      <td>NaN</td>\n",
       "      <td>NaN</td>\n",
       "      <td>NaN</td>\n",
       "      <td>12354.0</td>\n",
       "    </tr>\n",
       "    <tr>\n",
       "      <th>20024</th>\n",
       "      <td>Saint Helena</td>\n",
       "      <td>SHN</td>\n",
       "      <td>2021-02-07</td>\n",
       "      <td>NaN</td>\n",
       "      <td>NaN</td>\n",
       "      <td>NaN</td>\n",
       "      <td>NaN</td>\n",
       "      <td>75.0</td>\n",
       "      <td>NaN</td>\n",
       "      <td>NaN</td>\n",
       "      <td>NaN</td>\n",
       "      <td>12354.0</td>\n",
       "    </tr>\n",
       "  </tbody>\n",
       "</table>\n",
       "</div>"
      ],
      "text/plain": [
       "           location iso_code        date  total_vaccinations  \\\n",
       "20020  Saint Helena      SHN  2021-02-03               107.0   \n",
       "20021  Saint Helena      SHN  2021-02-04                 NaN   \n",
       "20022  Saint Helena      SHN  2021-02-05                 NaN   \n",
       "20023  Saint Helena      SHN  2021-02-06                 NaN   \n",
       "20024  Saint Helena      SHN  2021-02-07                 NaN   \n",
       "\n",
       "       people_vaccinated  people_fully_vaccinated  daily_vaccinations_raw  \\\n",
       "20020              107.0                      NaN                     NaN   \n",
       "20021                NaN                      NaN                     NaN   \n",
       "20022                NaN                      NaN                     NaN   \n",
       "20023                NaN                      NaN                     NaN   \n",
       "20024                NaN                      NaN                     NaN   \n",
       "\n",
       "       daily_vaccinations  total_vaccinations_per_hundred  \\\n",
       "20020                 NaN                            1.76   \n",
       "20021                75.0                             NaN   \n",
       "20022                75.0                             NaN   \n",
       "20023                75.0                             NaN   \n",
       "20024                75.0                             NaN   \n",
       "\n",
       "       people_vaccinated_per_hundred  people_fully_vaccinated_per_hundred  \\\n",
       "20020                           1.76                                  NaN   \n",
       "20021                            NaN                                  NaN   \n",
       "20022                            NaN                                  NaN   \n",
       "20023                            NaN                                  NaN   \n",
       "20024                            NaN                                  NaN   \n",
       "\n",
       "       daily_vaccinations_per_million  \n",
       "20020                             NaN  \n",
       "20021                         12354.0  \n",
       "20022                         12354.0  \n",
       "20023                         12354.0  \n",
       "20024                         12354.0  "
      ]
     },
     "execution_count": 2,
     "metadata": {},
     "output_type": "execute_result"
    }
   ],
   "source": [
    "url = 'https://raw.githubusercontent.com/owid/covid-19-data/master/public/data/vaccinations/vaccinations.csv'\n",
    "vacc_df = pd.read_csv(url)\n",
    "s_data= vacc_df[vacc_df['location']=='Saint Helena'].copy()\n",
    "s_data.head()"
   ]
  },
  {
   "cell_type": "markdown",
   "id": "20ea7569",
   "metadata": {},
   "source": [
    "### ex 2: עבור איזו עמודה יש הכי הרבה נתונים חסרים? כמה נתונים חסרים יש עבור עמודה זו?"
   ]
  },
  {
   "cell_type": "code",
   "execution_count": 3,
   "id": "a445ffae",
   "metadata": {},
   "outputs": [
    {
     "data": {
      "text/plain": [
       "'daily_vaccinations_raw'"
      ]
     },
     "execution_count": 3,
     "metadata": {},
     "output_type": "execute_result"
    }
   ],
   "source": [
    "max_nan=s_data.isnull().sum().idxmax()\n",
    "max_nan"
   ]
  },
  {
   "cell_type": "code",
   "execution_count": 4,
   "id": "2f8ee1e8",
   "metadata": {},
   "outputs": [
    {
     "data": {
      "text/plain": [
       "92"
      ]
     },
     "execution_count": 4,
     "metadata": {},
     "output_type": "execute_result"
    }
   ],
   "source": [
    "s_data.isnull().sum().max()"
   ]
  },
  {
   "cell_type": "markdown",
   "id": "ea184e34",
   "metadata": {},
   "source": [
    "### ex 3: הציגו רק את השורות שעבורן יש ערכים חסרים לעמודה vaccinations_daily"
   ]
  },
  {
   "cell_type": "code",
   "execution_count": 5,
   "id": "87d8dee6",
   "metadata": {},
   "outputs": [
    {
     "data": {
      "text/html": [
       "<div>\n",
       "<style scoped>\n",
       "    .dataframe tbody tr th:only-of-type {\n",
       "        vertical-align: middle;\n",
       "    }\n",
       "\n",
       "    .dataframe tbody tr th {\n",
       "        vertical-align: top;\n",
       "    }\n",
       "\n",
       "    .dataframe thead th {\n",
       "        text-align: right;\n",
       "    }\n",
       "</style>\n",
       "<table border=\"1\" class=\"dataframe\">\n",
       "  <thead>\n",
       "    <tr style=\"text-align: right;\">\n",
       "      <th></th>\n",
       "      <th>location</th>\n",
       "      <th>iso_code</th>\n",
       "      <th>date</th>\n",
       "      <th>total_vaccinations</th>\n",
       "      <th>people_vaccinated</th>\n",
       "      <th>people_fully_vaccinated</th>\n",
       "      <th>daily_vaccinations_raw</th>\n",
       "      <th>daily_vaccinations</th>\n",
       "      <th>total_vaccinations_per_hundred</th>\n",
       "      <th>people_vaccinated_per_hundred</th>\n",
       "      <th>people_fully_vaccinated_per_hundred</th>\n",
       "      <th>daily_vaccinations_per_million</th>\n",
       "    </tr>\n",
       "  </thead>\n",
       "  <tbody>\n",
       "    <tr>\n",
       "      <th>20020</th>\n",
       "      <td>Saint Helena</td>\n",
       "      <td>SHN</td>\n",
       "      <td>2021-02-03</td>\n",
       "      <td>107.0</td>\n",
       "      <td>107.0</td>\n",
       "      <td>NaN</td>\n",
       "      <td>NaN</td>\n",
       "      <td>NaN</td>\n",
       "      <td>1.76</td>\n",
       "      <td>1.76</td>\n",
       "      <td>NaN</td>\n",
       "      <td>NaN</td>\n",
       "    </tr>\n",
       "  </tbody>\n",
       "</table>\n",
       "</div>"
      ],
      "text/plain": [
       "           location iso_code        date  total_vaccinations  \\\n",
       "20020  Saint Helena      SHN  2021-02-03               107.0   \n",
       "\n",
       "       people_vaccinated  people_fully_vaccinated  daily_vaccinations_raw  \\\n",
       "20020              107.0                      NaN                     NaN   \n",
       "\n",
       "       daily_vaccinations  total_vaccinations_per_hundred  \\\n",
       "20020                 NaN                            1.76   \n",
       "\n",
       "       people_vaccinated_per_hundred  people_fully_vaccinated_per_hundred  \\\n",
       "20020                           1.76                                  NaN   \n",
       "\n",
       "       daily_vaccinations_per_million  \n",
       "20020                             NaN  "
      ]
     },
     "execution_count": 5,
     "metadata": {},
     "output_type": "execute_result"
    }
   ],
   "source": [
    "s_data.loc[s_data['daily_vaccinations'].isna()]"
   ]
  },
  {
   "cell_type": "markdown",
   "id": "6a325404",
   "metadata": {},
   "source": [
    "### ex 4: מלאו ערכים חסרים עבור העמודה vaccinations_daily .הסבירו באיזו שיטה השתמשתם למלא את הערכים החסרים, ומדוע אתם חושבים שזו השיטה הנכונה לעמודה זו"
   ]
  },
  {
   "cell_type": "code",
   "execution_count": 6,
   "id": "1366a6fc",
   "metadata": {},
   "outputs": [],
   "source": [
    "s_data.daily_vaccinations.mean()\n",
    "\n",
    "s_data['daily_vaccinations'].fillna(s_data['daily_vaccinations'].mean(), inplace=True)"
   ]
  },
  {
   "cell_type": "markdown",
   "id": "657ab5ad",
   "metadata": {},
   "source": [
    "### ex 5: total_vaccinations ול people_vaccinated :ל משותפת הסטוגרמה צ"
   ]
  },
  {
   "cell_type": "code",
   "execution_count": 32,
   "id": "7503400a",
   "metadata": {},
   "outputs": [
    {
     "data": {
      "text/html": [
       "<div>\n",
       "<style scoped>\n",
       "    .dataframe tbody tr th:only-of-type {\n",
       "        vertical-align: middle;\n",
       "    }\n",
       "\n",
       "    .dataframe tbody tr th {\n",
       "        vertical-align: top;\n",
       "    }\n",
       "\n",
       "    .dataframe thead th {\n",
       "        text-align: right;\n",
       "    }\n",
       "</style>\n",
       "<table border=\"1\" class=\"dataframe\">\n",
       "  <thead>\n",
       "    <tr style=\"text-align: right;\">\n",
       "      <th></th>\n",
       "      <th>people_vaccinated</th>\n",
       "      <th>total_vaccinations</th>\n",
       "    </tr>\n",
       "  </thead>\n",
       "  <tbody>\n",
       "    <tr>\n",
       "      <th>20020</th>\n",
       "      <td>107.0</td>\n",
       "      <td>107.0</td>\n",
       "    </tr>\n",
       "    <tr>\n",
       "      <th>20021</th>\n",
       "      <td>NaN</td>\n",
       "      <td>NaN</td>\n",
       "    </tr>\n",
       "    <tr>\n",
       "      <th>20022</th>\n",
       "      <td>NaN</td>\n",
       "      <td>NaN</td>\n",
       "    </tr>\n",
       "    <tr>\n",
       "      <th>20023</th>\n",
       "      <td>NaN</td>\n",
       "      <td>NaN</td>\n",
       "    </tr>\n",
       "    <tr>\n",
       "      <th>20024</th>\n",
       "      <td>NaN</td>\n",
       "      <td>NaN</td>\n",
       "    </tr>\n",
       "    <tr>\n",
       "      <th>...</th>\n",
       "      <td>...</td>\n",
       "      <td>...</td>\n",
       "    </tr>\n",
       "    <tr>\n",
       "      <th>20107</th>\n",
       "      <td>NaN</td>\n",
       "      <td>NaN</td>\n",
       "    </tr>\n",
       "    <tr>\n",
       "      <th>20108</th>\n",
       "      <td>NaN</td>\n",
       "      <td>NaN</td>\n",
       "    </tr>\n",
       "    <tr>\n",
       "      <th>20109</th>\n",
       "      <td>NaN</td>\n",
       "      <td>NaN</td>\n",
       "    </tr>\n",
       "    <tr>\n",
       "      <th>20110</th>\n",
       "      <td>NaN</td>\n",
       "      <td>NaN</td>\n",
       "    </tr>\n",
       "    <tr>\n",
       "      <th>20111</th>\n",
       "      <td>4361.0</td>\n",
       "      <td>7892.0</td>\n",
       "    </tr>\n",
       "  </tbody>\n",
       "</table>\n",
       "<p>92 rows × 2 columns</p>\n",
       "</div>"
      ],
      "text/plain": [
       "       people_vaccinated  total_vaccinations\n",
       "20020              107.0               107.0\n",
       "20021                NaN                 NaN\n",
       "20022                NaN                 NaN\n",
       "20023                NaN                 NaN\n",
       "20024                NaN                 NaN\n",
       "...                  ...                 ...\n",
       "20107                NaN                 NaN\n",
       "20108                NaN                 NaN\n",
       "20109                NaN                 NaN\n",
       "20110                NaN                 NaN\n",
       "20111             4361.0              7892.0\n",
       "\n",
       "[92 rows x 2 columns]"
      ]
     },
     "execution_count": 32,
     "metadata": {},
     "output_type": "execute_result"
    },
    {
     "data": {
      "image/png": "[encoded data removed]",
      "text/plain": [
       "<Figure size 432x288 with 1 Axes>"
      ]
     },
     "metadata": {
      "needs_background": "light"
     },
     "output_type": "display_data"
    }
   ],
   "source": [
    "new= s_data[['people_vaccinated','total_vaccinations']]\n",
    "\n",
    "new.plot.hist(bins=20, alpha=0.6)\n",
    "new"
   ]
  },
  {
   "cell_type": "markdown",
   "id": "7466b6f9",
   "metadata": {},
   "source": [
    "### ex 6:\n",
    "\n",
    " הירוק הקו מהו בידקו. people_fully_vaccinated_per_hundred העמודה עבור boxplot צרו בתוך ה boxplot .האם הוא מתאים לחציון, ממוצע, שכיח או סטיית התקן של העמודה? "
   ]
  },
  {
   "cell_type": "code",
   "execution_count": 17,
   "id": "04243f42",
   "metadata": {},
   "outputs": [
    {
     "data": {
      "text/plain": [
       "<AxesSubplot:>"
      ]
     },
     "execution_count": 17,
     "metadata": {},
     "output_type": "execute_result"
    },
    {
     "data": {
      "image/png": "[encoded data removed]",
      "text/plain": [
       "<Figure size 432x288 with 1 Axes>"
      ]
     },
     "metadata": {
      "needs_background": "light"
     },
     "output_type": "display_data"
    }
   ],
   "source": [
    "s_data.boxplot('people_fully_vaccinated_per_hundred') \n",
    "# הקו הירוק הוא חציון"
   ]
  },
  {
   "cell_type": "markdown",
   "id": "ea1c0965",
   "metadata": {},
   "source": [
    "### ex 7: הוסיפו עמודה month המייצגת את החודש עבור כל רשומה. הציגו את  הציגו, כלומר . החודשיים המקסימליים daily_vaccinations ואת people_vaccinated_per_hundred"
   ]
  },
  {
   "cell_type": "code",
   "execution_count": 24,
   "id": "f073ca2a",
   "metadata": {},
   "outputs": [
    {
     "data": {
      "text/html": [
       "<div>\n",
       "<style scoped>\n",
       "    .dataframe tbody tr th:only-of-type {\n",
       "        vertical-align: middle;\n",
       "    }\n",
       "\n",
       "    .dataframe tbody tr th {\n",
       "        vertical-align: top;\n",
       "    }\n",
       "\n",
       "    .dataframe thead th {\n",
       "        text-align: right;\n",
       "    }\n",
       "</style>\n",
       "<table border=\"1\" class=\"dataframe\">\n",
       "  <thead>\n",
       "    <tr style=\"text-align: right;\">\n",
       "      <th></th>\n",
       "      <th>total_vaccinations_per_hundred</th>\n",
       "      <th>daily_vaccinations</th>\n",
       "    </tr>\n",
       "    <tr>\n",
       "      <th>month</th>\n",
       "      <th></th>\n",
       "      <th></th>\n",
       "    </tr>\n",
       "  </thead>\n",
       "  <tbody>\n",
       "    <tr>\n",
       "      <th>2</th>\n",
       "      <td>1.76</td>\n",
       "      <td>84.813187</td>\n",
       "    </tr>\n",
       "    <tr>\n",
       "      <th>3</th>\n",
       "      <td>73.37</td>\n",
       "      <td>165.000000</td>\n",
       "    </tr>\n",
       "    <tr>\n",
       "      <th>4</th>\n",
       "      <td>88.50</td>\n",
       "      <td>97.000000</td>\n",
       "    </tr>\n",
       "    <tr>\n",
       "      <th>5</th>\n",
       "      <td>130.00</td>\n",
       "      <td>97.000000</td>\n",
       "    </tr>\n",
       "  </tbody>\n",
       "</table>\n",
       "</div>"
      ],
      "text/plain": [
       "       total_vaccinations_per_hundred  daily_vaccinations\n",
       "month                                                    \n",
       "2                                1.76           84.813187\n",
       "3                               73.37          165.000000\n",
       "4                               88.50           97.000000\n",
       "5                              130.00           97.000000"
      ]
     },
     "execution_count": 24,
     "metadata": {},
     "output_type": "execute_result"
    }
   ],
   "source": [
    "from datetime import date\n",
    "s_data['date'] = pd.to_datetime(s_data.date)\n",
    "s_data['month'] = pd.DatetimeIndex(s_data.date).month\n",
    "table= s_data.groupby('month')[['total_vaccinations_per_hundred', 'daily_vaccinations']].max()\n",
    "table"
   ]
  },
  {
   "cell_type": "markdown",
   "id": "be8f9abe",
   "metadata": {},
   "source": [
    "### ex 8: מיינו את הנתונים שהצגתם בסעיף 7 לפיי undred_per_vaccinated_people כך שיוצגו מהערך הקטן ביותר לגדול ביותר ) במקרה והערכים שלכם כבר ממוינים כברירת מחדל, הציגו את הדרך בה יש למיין(. "
   ]
  },
  {
   "cell_type": "code",
   "execution_count": 25,
   "id": "f3d88973",
   "metadata": {},
   "outputs": [
    {
     "data": {
      "text/html": [
       "<div>\n",
       "<style scoped>\n",
       "    .dataframe tbody tr th:only-of-type {\n",
       "        vertical-align: middle;\n",
       "    }\n",
       "\n",
       "    .dataframe tbody tr th {\n",
       "        vertical-align: top;\n",
       "    }\n",
       "\n",
       "    .dataframe thead th {\n",
       "        text-align: right;\n",
       "    }\n",
       "</style>\n",
       "<table border=\"1\" class=\"dataframe\">\n",
       "  <thead>\n",
       "    <tr style=\"text-align: right;\">\n",
       "      <th></th>\n",
       "      <th>total_vaccinations_per_hundred</th>\n",
       "      <th>daily_vaccinations</th>\n",
       "    </tr>\n",
       "    <tr>\n",
       "      <th>month</th>\n",
       "      <th></th>\n",
       "      <th></th>\n",
       "    </tr>\n",
       "  </thead>\n",
       "  <tbody>\n",
       "    <tr>\n",
       "      <th>2</th>\n",
       "      <td>1.76</td>\n",
       "      <td>84.813187</td>\n",
       "    </tr>\n",
       "    <tr>\n",
       "      <th>3</th>\n",
       "      <td>73.37</td>\n",
       "      <td>165.000000</td>\n",
       "    </tr>\n",
       "    <tr>\n",
       "      <th>4</th>\n",
       "      <td>88.50</td>\n",
       "      <td>97.000000</td>\n",
       "    </tr>\n",
       "    <tr>\n",
       "      <th>5</th>\n",
       "      <td>130.00</td>\n",
       "      <td>97.000000</td>\n",
       "    </tr>\n",
       "  </tbody>\n",
       "</table>\n",
       "</div>"
      ],
      "text/plain": [
       "       total_vaccinations_per_hundred  daily_vaccinations\n",
       "month                                                    \n",
       "2                                1.76           84.813187\n",
       "3                               73.37          165.000000\n",
       "4                               88.50           97.000000\n",
       "5                              130.00           97.000000"
      ]
     },
     "execution_count": 25,
     "metadata": {},
     "output_type": "execute_result"
    }
   ],
   "source": [
    "table.sort_values('total_vaccinations_per_hundred', ascending = True)"
   ]
  },
  {
   "cell_type": "code",
   "execution_count": null,
   "id": "fdb20f16",
   "metadata": {},
   "outputs": [],
   "source": []
  }
 ],
 "metadata": {
  "kernelspec": {
   "display_name": "Python 3",
   "language": "python",
   "name": "python3"
  },
  "language_info": {
   "codemirror_mode": {
    "name": "ipython",
    "version": 3
   },
   "file_extension": ".py",
   "mimetype": "text/x-python",
   "name": "python",
   "nbconvert_exporter": "python",
   "pygments_lexer": "ipython3",
   "version": "3.9.4"
  }
 },
 "nbformat": 4,
 "nbformat_minor": 5
}
